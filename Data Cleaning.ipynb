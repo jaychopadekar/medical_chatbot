{
 "cells": [
  {
   "cell_type": "code",
   "execution_count": 1,
   "id": "f9204b69",
   "metadata": {},
   "outputs": [],
   "source": [
    "import pandas as pd\n",
    "import re\n",
    "\n",
    "# Load the CSV file\n",
    "df = pd.read_csv(r\"C:\\Users\\Jay\\Documents\\Sem 5\\NLP\\Chatbot\\Data\\medquad.csv\")\n",
    "\n",
    "\n",
    "# Cleaning the data\n",
    "df = df[df['question'].notna() & df['answer'].notna()]\n",
    "df = df[df['question'] != '#NAME?']\n",
    "df = df[df['answer'] != '#NAME?']\n",
    "df = df[df['question'].str.strip() != '']\n",
    "df = df[df['answer'].str.strip() != '']\n",
    "\n",
    "\n",
    "# Function to clean text\n",
    "def clean_text(text):\n",
    "    if pd.isna(text):\n",
    "        return ''\n",
    "    text = text.strip()  # Remove leading and trailing spaces\n",
    "    text = text.lower()  # Convert to lowercase\n",
    "    text = re.sub(r'\\s+', ' ', text)  # Replace multiple spaces with a single space\n",
    "    text = re.sub(r'[^\\w\\s]', '', text)  # Remove punctuation\n",
    "    return text\n",
    "\n",
    "\n",
    "\n",
    "# Apply cleaning function\n",
    "df['question'] = df['question'].apply(clean_text)\n",
    "#df['answer'] = df['answer'].apply(clean_text)\n",
    "\n",
    "\n",
    "# Remove rows with empty questions or answers\n",
    "df = df[df['question'] != '']\n",
    "df = df[df['answer'] != '']\n",
    "\n",
    "\n",
    "# Fill NaN values with empty strings\n",
    "df['question'].fillna('', inplace=True)\n",
    "df['answer'].fillna('', inplace=True)\n",
    "\n",
    "\n",
    "#Finding rows with the same question\n",
    "matching_rows = df[df['question'].str.contains(\"what is are glaucoma\", na=False)]\n",
    "matching_rows\n",
    "\n",
    "\n",
    "#Deleting rows with the same question\n",
    "df = df.drop_duplicates(subset=['question'], keep='first')\n",
    "df\n",
    "\n",
    "# Save cleaned data (optional)\n",
    "df.to_csv('cleaned_medical_qa.csv', index=False)\n"
   ]
  },
  {
   "cell_type": "code",
   "execution_count": null,
   "id": "7d4dce3a",
   "metadata": {},
   "outputs": [],
   "source": []
  }
 ],
 "metadata": {
  "kernelspec": {
   "display_name": "Python 3 (ipykernel)",
   "language": "python",
   "name": "python3"
  },
  "language_info": {
   "codemirror_mode": {
    "name": "ipython",
    "version": 3
   },
   "file_extension": ".py",
   "mimetype": "text/x-python",
   "name": "python",
   "nbconvert_exporter": "python",
   "pygments_lexer": "ipython3",
   "version": "3.11.5"
  }
 },
 "nbformat": 4,
 "nbformat_minor": 5
}
